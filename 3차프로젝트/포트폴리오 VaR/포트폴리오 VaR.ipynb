{
 "cells": [
  {
   "cell_type": "code",
   "execution_count": 1,
   "id": "16f1094c",
   "metadata": {},
   "outputs": [],
   "source": [
    "import pandas as pd\n",
    "import math\n",
    "import numpy as np"
   ]
  },
  {
   "cell_type": "code",
   "execution_count": 2,
   "id": "750b85af",
   "metadata": {},
   "outputs": [],
   "source": [
    "data = pd.read_csv('./주가 데이터 10년/total.csv', encoding = \"cp949\")"
   ]
  },
  {
   "cell_type": "code",
   "execution_count": 3,
   "id": "124d57f3",
   "metadata": {},
   "outputs": [
    {
     "data": {
      "text/html": [
       "<div>\n",
       "<style scoped>\n",
       "    .dataframe tbody tr th:only-of-type {\n",
       "        vertical-align: middle;\n",
       "    }\n",
       "\n",
       "    .dataframe tbody tr th {\n",
       "        vertical-align: top;\n",
       "    }\n",
       "\n",
       "    .dataframe thead th {\n",
       "        text-align: right;\n",
       "    }\n",
       "</style>\n",
       "<table border=\"1\" class=\"dataframe\">\n",
       "  <thead>\n",
       "    <tr style=\"text-align: right;\">\n",
       "      <th></th>\n",
       "      <th>Unnamed: 0</th>\n",
       "      <th>종목코드</th>\n",
       "      <th>종목명</th>\n",
       "      <th>날짜</th>\n",
       "      <th>종가</th>\n",
       "      <th>증권전산업종코드</th>\n",
       "      <th>발행주식수</th>\n",
       "    </tr>\n",
       "  </thead>\n",
       "  <tbody>\n",
       "    <tr>\n",
       "      <th>0</th>\n",
       "      <td>0.0</td>\n",
       "      <td>A060310</td>\n",
       "      <td>3S</td>\n",
       "      <td>20210813</td>\n",
       "      <td>3520</td>\n",
       "      <td>270</td>\n",
       "      <td>46271000</td>\n",
       "    </tr>\n",
       "    <tr>\n",
       "      <th>1</th>\n",
       "      <td>1.0</td>\n",
       "      <td>A060310</td>\n",
       "      <td>3S</td>\n",
       "      <td>20210812</td>\n",
       "      <td>3685</td>\n",
       "      <td>270</td>\n",
       "      <td>46271000</td>\n",
       "    </tr>\n",
       "    <tr>\n",
       "      <th>2</th>\n",
       "      <td>2.0</td>\n",
       "      <td>A060310</td>\n",
       "      <td>3S</td>\n",
       "      <td>20210811</td>\n",
       "      <td>3590</td>\n",
       "      <td>270</td>\n",
       "      <td>46271000</td>\n",
       "    </tr>\n",
       "    <tr>\n",
       "      <th>3</th>\n",
       "      <td>3.0</td>\n",
       "      <td>A060310</td>\n",
       "      <td>3S</td>\n",
       "      <td>20210810</td>\n",
       "      <td>3675</td>\n",
       "      <td>270</td>\n",
       "      <td>46271000</td>\n",
       "    </tr>\n",
       "    <tr>\n",
       "      <th>4</th>\n",
       "      <td>4.0</td>\n",
       "      <td>A060310</td>\n",
       "      <td>3S</td>\n",
       "      <td>20210809</td>\n",
       "      <td>3730</td>\n",
       "      <td>270</td>\n",
       "      <td>46271000</td>\n",
       "    </tr>\n",
       "  </tbody>\n",
       "</table>\n",
       "</div>"
      ],
      "text/plain": [
       "   Unnamed: 0     종목코드 종목명        날짜    종가 증권전산업종코드     발행주식수\n",
       "0         0.0  A060310  3S  20210813  3520      270  46271000\n",
       "1         1.0  A060310  3S  20210812  3685      270  46271000\n",
       "2         2.0  A060310  3S  20210811  3590      270  46271000\n",
       "3         3.0  A060310  3S  20210810  3675      270  46271000\n",
       "4         4.0  A060310  3S  20210809  3730      270  46271000"
      ]
     },
     "execution_count": 3,
     "metadata": {},
     "output_type": "execute_result"
    }
   ],
   "source": [
    "data.head()"
   ]
  },
  {
   "cell_type": "code",
   "execution_count": 4,
   "id": "01548171",
   "metadata": {},
   "outputs": [],
   "source": [
    "b1 = data.loc[: ,'종목명'] == '삼성전자'\n",
    "b2 = data.loc[: ,'종목명'] == 'AJ네트웍스'\n",
    "b3 = data.loc[: ,'종목명'] == '희림'"
   ]
  },
  {
   "cell_type": "code",
   "execution_count": 5,
   "id": "90e2b4db",
   "metadata": {},
   "outputs": [
    {
     "data": {
      "text/plain": [
       "array(['3S', '종목명', 'AJ네트웍스', ..., '흥아해운', '희림', '힘스'], dtype=object)"
      ]
     },
     "execution_count": 5,
     "metadata": {},
     "output_type": "execute_result"
    }
   ],
   "source": [
    "data.loc[: ,'종목명'].unique()"
   ]
  },
  {
   "cell_type": "code",
   "execution_count": 6,
   "id": "9507df23",
   "metadata": {
    "scrolled": true
   },
   "outputs": [],
   "source": [
    "Price1 = data.loc[b1, \"날짜\": \"종가\"]\n",
    "Price2 = data.loc[b2, \"날짜\": \"종가\"]\n",
    "Price3 = data.loc[b3, \"날짜\": \"종가\"]"
   ]
  },
  {
   "cell_type": "code",
   "execution_count": 8,
   "id": "bc137b67",
   "metadata": {},
   "outputs": [],
   "source": [
    "cntnsYield1 = [] # 연속 수익률\n",
    "for i in range(len(Price1)-1):\n",
    "    cntnsYield1.append(math.log(int(Price1.iloc[i, 1]) / int(Price1.iloc[i+1, 1])))\n",
    "    \n",
    "    \n",
    "cntnsYield2 = [] # 연속 수익률\n",
    "for i in range(len(Price2)-1):\n",
    "    cntnsYield2.append(math.log(int(Price2.iloc[i, 1]) / int(Price2.iloc[i+1, 1])))\n",
    "    \n",
    "    \n",
    "cntnsYield3 = [] # 연속 수익률\n",
    "for i in range(len(Price3)-1):\n",
    "    cntnsYield3.append(math.log(int(Price3.iloc[i, 1]) / int(Price3.iloc[i+1, 1])))"
   ]
  },
  {
   "cell_type": "code",
   "execution_count": 9,
   "id": "ebac7dc3",
   "metadata": {},
   "outputs": [],
   "source": [
    "ramda = 0.94 # 람다계수 일별수익률은 0.94사용, 월별은 0.97사용 "
   ]
  },
  {
   "attachments": {
    "image.png": {
     "image/png": "[encoded data removed]"
    }
   },
   "cell_type": "markdown",
   "id": "1ae270fd",
   "metadata": {},
   "source": [
    "![image.png](attachment:image.png)"
   ]
  },
  {
   "cell_type": "code",
   "execution_count": 10,
   "id": "a77b5889",
   "metadata": {},
   "outputs": [],
   "source": [
    "EWMAvariance1 = [] # 지수가주이동평균 분산1\n",
    "EWMAvariance2 = [] # 지수가주이동평균 분산2\n",
    "EWMAvariance3 = [] # 지수가주이동평균 분산3\n",
    "\n",
    "for i in range(len(cntnsYield1), -1, -1):\n",
    "    sum1 = []\n",
    "    for j in range(i):\n",
    "        sum1.append(ramda ** (j) * (cntnsYield1[j] ** 2))\n",
    "    EWMAvariance1.append((1-ramda) * sum(sum1))\n",
    "    \n",
    "for i in range(len(cntnsYield2), -1, -1):\n",
    "    sum2 = []\n",
    "    for j in range(i):\n",
    "        sum2.append(ramda ** (j) * (cntnsYield2[j] ** 2))\n",
    "    EWMAvariance2.append((1-ramda) * sum(sum2))\n",
    "    \n",
    "for i in range(len(cntnsYield3), -1, -1):\n",
    "    sum3 = []\n",
    "    for j in range(i):\n",
    "        sum3.append(ramda ** (j) * (cntnsYield3[j] ** 2))\n",
    "    EWMAvariance3.append((1-ramda) * sum(sum3))"
   ]
  },
  {
   "attachments": {
    "image.png": {
     "image/png": "[encoded data removed]"
    }
   },
   "cell_type": "markdown",
   "id": "15309688",
   "metadata": {},
   "source": [
    "![image.png](attachment:image.png)"
   ]
  },
  {
   "cell_type": "code",
   "execution_count": 79,
   "id": "c12108c8",
   "metadata": {},
   "outputs": [],
   "source": [
    "EWMAcov12 = [] # 지수가중 공분산12\n",
    "EWMAcov13 = [] # 지수가중 공분산13\n",
    "EWMAcov23 = [] # 지수가중 공분산23\n",
    "\n",
    "for i in range(len(cntnsYield1), -1, -1):\n",
    "    sum1 = []\n",
    "    for j in range(len(cntnsYield1)-1, len(cntnsYield1)-i, -1):\n",
    "        sum1.append(ramda ** (j) * (cntnsYield1[j] - np.mean(cntnsYield1)*(cntnsYield2[j] - np.mean(cntnsYield2))))\n",
    "    EWMAcov12.append((1-ramda) * sum(sum1))\n",
    "    \n",
    "for i in range(len(cntnsYield1), -1, -1):\n",
    "    sum2 = []\n",
    "    for j in range(len(cntnsYield1)-1, len(cntnsYield1)-i, -1):\n",
    "        sum2.append(ramda ** (j) * (cntnsYield1[j] - np.mean(cntnsYield1)*(cntnsYield3[j] - np.mean(cntnsYield3))))\n",
    "    EWMAcov13.append((1-ramda) * sum(sum2))\n",
    "    \n",
    "for i in range(len(cntnsYield3), -1, -1):\n",
    "    sum3 = []\n",
    "    for j in range(len(cntnsYield1)-1, len(cntnsYield1)-i, -1):\n",
    "        sum3.append(ramda ** (j) * (cntnsYield2[j] - np.mean(cntnsYield2)*(cntnsYield3[j] - np.mean(cntnsYield3))))\n",
    "    EWMAcov23.append((1-ramda) * sum(sum3))"
   ]
  },
  {
   "cell_type": "code",
   "execution_count": 14,
   "id": "2f18ede0",
   "metadata": {},
   "outputs": [],
   "source": [
    "# 지수가중평균법에 의한 상관계수 추정치\n",
    "p12 = EWMAcov12[0]/ (EWMAvariance1[0]* EWMAvariance2[0])\n",
    "p13 = EWMAcov13[0]/ (EWMAvariance1[0]* EWMAvariance3[0])\n",
    "p23 = EWMAcov23[0]/ (EWMAvariance2[0]* EWMAvariance3[0])"
   ]
  },
  {
   "attachments": {
    "image-2.png": {
     "image/png": "[encoded data removed]"
    },
    "image.png": {
     "image/png": "[encoded data removed]"
    }
   },
   "cell_type": "markdown",
   "id": "dcec2dbb",
   "metadata": {},
   "source": [
    "개별 VaR구하기\n",
    "\n",
    "![image.png](attachment:image.png)\n",
    "\n",
    "![image-2.png](attachment:image-2.png)"
   ]
  },
  {
   "cell_type": "code",
   "execution_count": 68,
   "id": "09a5df31",
   "metadata": {},
   "outputs": [],
   "source": [
    "investment = 10000 # 투자금액\n",
    "Zalpha = -2.326\n",
    "T = 100 # 투자기간 (일단위)\n",
    "sigma1 = EWMAvariance1[0] ** 1/2 # 1일 수익률의 변동성으로 지수가중 표준편차 사용\n",
    "sigma2 = EWMAvariance2[0] ** 1/2\n",
    "sigma3 = EWMAvariance3[0] ** 1/2\n",
    "\n",
    "VaR1 = investment * (1- np.exp(Zalpha * sigma1 * (T ** 1/2)))\n",
    "VaR2 = investment * (1- np.exp(Zalpha * sigma2 * (T ** 1/2)))\n",
    "VaR3 = investment * (1- np.exp(Zalpha * sigma3 * (T ** 1/2)))"
   ]
  },
  {
   "cell_type": "code",
   "execution_count": 69,
   "id": "9a3a7156",
   "metadata": {},
   "outputs": [
    {
     "name": "stdout",
     "output_type": "stream",
     "text": [
      "121.05574400728791 343.84275439898414 646.4864222021461\n"
     ]
    }
   ],
   "source": [
    "print(VaR1, VaR2, VaR3)"
   ]
  },
  {
   "cell_type": "markdown",
   "id": "e26f0cba",
   "metadata": {},
   "source": [
    "## 포트폴리오 VaR구하기\n",
    "- 포트폴리오 수익률 구하는 방법은 2가지\n",
    "\n",
    "    1. 각 주식의 투자비율을 정해서 포트폴리오 수익률 구하기\n",
    "    2. 포트폴리오 수익률을 정해서 투자비율 구하기"
   ]
  },
  {
   "cell_type": "code",
   "execution_count": 18,
   "id": "76cc1012",
   "metadata": {},
   "outputs": [],
   "source": [
    "# 각 주식의 투자비율 임의로 지정\n",
    "w1 = 0.5 # 주식1의 투자비율\n",
    "w2 = 0.3 # 주식2의 투자비율\n",
    "w3 = 0.2 # 주식3의 투자비율\n",
    "\n",
    "# 종목별 수익률은 각 종목의 연속수익률 평균을 사용하였다 -> 이걸 사용하는게 맞는지 모르겠음\n",
    "r1 = cntnsYield1[0]\n",
    "r2 = cntnsYield2[0]\n",
    "r3 = cntnsYield3[0]\n",
    "\n",
    "Rp = r1 * w1 + r2* w2 + r3* w3# 포트폴리오 수익률"
   ]
  },
  {
   "cell_type": "code",
   "execution_count": 19,
   "id": "6448a45e",
   "metadata": {},
   "outputs": [
    {
     "data": {
      "text/plain": [
       "-0.02374630674658224"
      ]
     },
     "execution_count": 19,
     "metadata": {},
     "output_type": "execute_result"
    }
   ],
   "source": [
    "Rp"
   ]
  },
  {
   "cell_type": "code",
   "execution_count": 20,
   "id": "1c231114",
   "metadata": {},
   "outputs": [],
   "source": [
    "# 각 종목별 수익률에 대한 평균과 분산\n",
    "m1 = np.mean(cntnsYield1[0:T])\n",
    "m2 = np.mean(cntnsYield2[0:T])\n",
    "m3 = np.mean(cntnsYield3[0:T])\n",
    "m = np.array([[m1], [m2], [m3]])"
   ]
  },
  {
   "cell_type": "code",
   "execution_count": 89,
   "id": "413406ac",
   "metadata": {},
   "outputs": [],
   "source": [
    "Zalpha = 2.326\n",
    "investment = 10000 # 투자금액\n",
    "w = [[w1, w2, w3]]\n",
    "w = np.array(w)\n",
    "covMatrix = [[EWMAvariance1[0], EWMAcov12[0], EWMAcov12[0]],\n",
    "            [EWMAcov12[0], EWMAvariance2[0], EWMAcov23[0]],\n",
    "            [EWMAcov13[0], EWMAcov23[0], EWMAvariance3[0]]]\n",
    "Vp = w.dot(covMatrix).dot(w.T) # 포트폴리오 분산\n",
    "\n",
    "Mp = w.dot(m) # 포트폴리오 수익률의 기대값"
   ]
  },
  {
   "cell_type": "code",
   "execution_count": 113,
   "id": "c853a083",
   "metadata": {},
   "outputs": [
    {
     "data": {
      "text/plain": [
       "array([[0.00129356]])"
      ]
     },
     "execution_count": 113,
     "metadata": {},
     "output_type": "execute_result"
    }
   ],
   "source": [
    "Mp"
   ]
  },
  {
   "cell_type": "markdown",
   "id": "b8067e2e",
   "metadata": {},
   "source": [
    "### 기간이 t+1시점에서 1기간 일경우"
   ]
  },
  {
   "cell_type": "code",
   "execution_count": 90,
   "id": "2a007872",
   "metadata": {},
   "outputs": [],
   "source": [
    "# 신뢰수준 α에서 T+1시점 1기간 포트폴리오 VaR(p)\n",
    "VaRp = investment * Zalpha * (Vp[0][0] ** 1/2)"
   ]
  },
  {
   "cell_type": "code",
   "execution_count": 91,
   "id": "665ea6e8",
   "metadata": {},
   "outputs": [
    {
     "data": {
      "text/plain": [
       "-10.212642269424709"
      ]
     },
     "execution_count": 91,
     "metadata": {},
     "output_type": "execute_result"
    }
   ],
   "source": [
    "VaRp"
   ]
  },
  {
   "cell_type": "code",
   "execution_count": 92,
   "id": "0dead225",
   "metadata": {},
   "outputs": [],
   "source": [
    "VaR1 = investment * w1 * Zalpha * (EWMAvariance1[0] ** 1/2)\n",
    "VaR2 = investment * w2 * Zalpha * (EWMAvariance2[0] ** 1/2)\n",
    "VaR3 = investment * w3 * Zalpha * (EWMAvariance3[0] ** 1/2)"
   ]
  },
  {
   "cell_type": "code",
   "execution_count": 94,
   "id": "23b10a5e",
   "metadata": {},
   "outputs": [
    {
     "name": "stdout",
     "output_type": "stream",
     "text": [
      "1.2179443624750637 2.099359474542773 2.6733214624309416\n"
     ]
    }
   ],
   "source": [
    "print(VaR1, VaR2, VaR3)"
   ]
  },
  {
   "cell_type": "code",
   "execution_count": 95,
   "id": "4276f51e",
   "metadata": {},
   "outputs": [],
   "source": [
    "VaRsum = VaR1 + VaR2 + VaR3 # 개별 VaR 합\n",
    "effect = VaRsum - VaRp  # 분산효과"
   ]
  },
  {
   "cell_type": "code",
   "execution_count": 96,
   "id": "a7697547",
   "metadata": {},
   "outputs": [
    {
     "data": {
      "text/plain": [
       "16.203267568873486"
      ]
     },
     "execution_count": 96,
     "metadata": {},
     "output_type": "execute_result"
    }
   ],
   "source": [
    "effect # 분산효과"
   ]
  },
  {
   "cell_type": "markdown",
   "id": "8d259d5c",
   "metadata": {},
   "source": [
    "### 기간이  T기간일 경우"
   ]
  },
  {
   "cell_type": "code",
   "execution_count": 109,
   "id": "ab40536f",
   "metadata": {},
   "outputs": [],
   "source": [
    "investment = 10000 # 투자금액\n",
    "Zalpha = -2.326\n",
    "T = 100 # 투자기간 (일단위)\n",
    "VaR1 = investment* w1 * (1- np.exp(Zalpha * sigma1 * (T ** 1/2)))\n",
    "VaR2 = investment* w2 * (1- np.exp(Zalpha * sigma2 * (T ** 1/2)))\n",
    "VaR3 = investment* w3 * (1- np.exp(Zalpha * sigma3 * (T ** 1/2)))\n",
    "\n",
    "VaRp = investment * (1- np.exp(Zalpha * (Vp[0][0] ** 1/2) * (T ** 1/2)))"
   ]
  },
  {
   "cell_type": "code",
   "execution_count": 110,
   "id": "c0202da3",
   "metadata": {},
   "outputs": [
    {
     "name": "stdout",
     "output_type": "stream",
     "text": [
      "-523.8941413331144 60.52787200364396 103.15282631969525 129.2972844404292\n"
     ]
    }
   ],
   "source": [
    "print(VaRp, VaR1, VaR2, VaR3)"
   ]
  },
  {
   "cell_type": "code",
   "execution_count": 111,
   "id": "d1472f82",
   "metadata": {},
   "outputs": [],
   "source": [
    "VaRsum = VaR1 + VaR2 + VaR3 # 개별 VaR 합\n",
    "effect = VaRsum - VaRp  # 분산효과"
   ]
  },
  {
   "cell_type": "code",
   "execution_count": 112,
   "id": "99c37ce5",
   "metadata": {},
   "outputs": [
    {
     "data": {
      "text/plain": [
       "816.8721240968828"
      ]
     },
     "execution_count": 112,
     "metadata": {},
     "output_type": "execute_result"
    }
   ],
   "source": [
    "effect # 분산효과"
   ]
  },
  {
   "cell_type": "code",
   "execution_count": null,
   "id": "31af2e3f",
   "metadata": {},
   "outputs": [],
   "source": []
  }
 ],
 "metadata": {
  "kernelspec": {
   "display_name": "Python 3",
   "language": "python",
   "name": "python3"
  },
  "language_info": {
   "codemirror_mode": {
    "name": "ipython",
    "version": 3
   },
   "file_extension": ".py",
   "mimetype": "text/x-python",
   "name": "python",
   "nbconvert_exporter": "python",
   "pygments_lexer": "ipython3",
   "version": "3.6.13"
  }
 },
 "nbformat": 4,
 "nbformat_minor": 5
}
