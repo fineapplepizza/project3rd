{
 "cells": [
  {
   "cell_type": "markdown",
   "metadata": {},
   "source": [
    "# 들어가기에 앞서 \n",
    " - 이번 프로젝트때 [1]트위터 스크래핑을 통한 데이터만을 썻음"
   ]
  },
  {
   "cell_type": "code",
   "execution_count": null,
   "metadata": {},
   "outputs": [],
   "source": []
  },
  {
   "cell_type": "code",
   "execution_count": null,
   "metadata": {},
   "outputs": [],
   "source": [
    "!pip install facebook-sdk\n",
    "!pip install selenium\n",
    "!pip install bs4\n",
    "!pip install lxml\n",
    "!pip install twitterscraper\n",
    "!pip install openpyxl\n",
    "!pip install python-twitter"
   ]
  },
  {
   "cell_type": "code",
   "execution_count": null,
   "metadata": {},
   "outputs": [],
   "source": [
    "\n",
    "import sys\n",
    "from urllib.request import Request, urlopen\n",
    "from datetime import *\n",
    "import json\n",
    "import requests as req\n",
    "\n",
    "#페북,인스타,트위터\n",
    "import facebook\n",
    "import twitter\n",
    "#셀레니움, 뷰티풀숲\n",
    "from selenium import webdriver as wb\n",
    "from selenium.webdriver.common.keys import Keys\n",
    "from bs4 import BeautifulSoup as bs\n",
    "import time\n",
    "#넘피,판다스,멧플로립\n",
    "import numpy as np\n",
    "import pandas as pd\n",
    "import matplotlib.pyplot as plt"
   ]
  },
  {
   "cell_type": "markdown",
   "metadata": {},
   "source": [
    "##  1. 주식종목 불러오기\n",
    "    - 주식종목에서 기업명만 추출 -> 크롤링 키워드로 사용"
   ]
  },
  {
   "cell_type": "code",
   "execution_count": null,
   "metadata": {},
   "outputs": [],
   "source": [
    "#증권사 API에서 가져운 주식종목불러오기\n",
    "train = pd.read_csv('./종목명v7.csv', encoding = 'euc-kr')"
   ]
  },
  {
   "cell_type": "code",
   "execution_count": null,
   "metadata": {},
   "outputs": [],
   "source": [
    "\n",
    "#불러온 주식종목에서 기업명만을 추출해내기위한 작업\n",
    "nameList = [ \"1우B\",\n",
    "    \"1우\",\"2우B\",\"2우\",\"3우B\",\"3우C\",\"4우B\",\"4우\",\"우B\",\"전환\", \")\",\"(\",\n",
    "    \"(합성 H)\",\"(합성)\",\"선물\",\"인버스\",\"채권주식\",\"국채\",\"코스닥\",\"나스닥\",\n",
    "    \"200\",\"300\",\"100\",\"대형고배당\",\"TR\",\"150\",\"미국채\",\"미국\",\"가중\",\n",
    "    \"TOP10\",\"\",\"Enhanced\",\n",
    "    \"제11호스팩\",\"제12호스팩\",\"제13호스팩\",\"제14호스팩\",\"제15호스팩\",\"제16호스팩\",\n",
    "    \"제17호스팩\",\"제18호스팩\",\"제19호스팩\",\n",
    "    \"제1호스팩\",\"제1호스팩\",\"제3호스팩\",\"제4호스팩\",\"제5호스팩\",\"제6호스팩\",\n",
    "    \"제7호스팩\",\"제8호스팩\",\"제9호스팩\",\"제10호스팩\",\"7호스팩\", \"스팩5호\",\n",
    "           \"2호스팩\",\"4호스팩\",\"5호스팩\",\"6호스팩\",\"8호스팩\",\"9호스팩\",\"10호스팩\",\n",
    "\"14호스팩\",\"16호스팩\",\"19호스팩\",\"20호스팩\"]\n",
    "for i in range(len(nameList)):\n",
    "    train['종목명'] = train['종목명'].str.replace(nameList[i], '')\n",
    "train.iloc[7,2]\n",
    "\n",
    "# 종목명뒤에 '우' 탈락을 위한 조건문\n",
    "for j in range(train['종목명'].count()):\n",
    "    str1 = train.iloc[j,2] \n",
    "    if str1[len(str1)-1:] == \"우\":\n",
    "        if str1[:len(str1)-1] == train.iloc[j-1,2]:\n",
    "            train.iloc[j,2] = str1[:len(str1)-1]\n",
    "    #TIGER, KODEX,KINDEX, KBSTAR, HANARO, ARIRANG, KOSEF, 신한G, 미래G로 시작하는 종목명 탈락\n",
    "    if str1[:5] == \"TIGER\":\n",
    "        train.iloc[j,2]  =\"\";\n",
    "    elif str1[:5] == \"KODEX\":\n",
    "        train.iloc[j,2]  =\"\";\n",
    "    elif str1[:6] == \"KINDEX\":\n",
    "        train.iloc[j,2]  =\"\";\n",
    "    elif str1[:6] == \"KBSTAR\":\n",
    "        train.iloc[j,2]  =\"\";\n",
    "    elif str1[:6] == \"HANARO\":\n",
    "        train.iloc[j,2]  =\"\";\n",
    "    elif str1[:7] == \"ARIRANG\":\n",
    "        train.iloc[j,2]  =\"\";\n",
    "    elif str1[:5] == \"KOSEF\":\n",
    "        train.iloc[j,2]  =\"\";\n",
    "    elif str1[:3] == \"신한G\":\n",
    "        train.iloc[j,2]  =\"\";\n",
    "    elif str1[:3] == \"미래G\":\n",
    "        train.iloc[j,2]  =\"\";\n",
    "    elif str1[:3] == \"미래F\":\n",
    "        train.iloc[j,2]  =\"\";\n"
   ]
  },
  {
   "cell_type": "code",
   "execution_count": null,
   "metadata": {},
   "outputs": [],
   "source": [
    "#중복제거\n",
    "print(train['종목명'].count())\n",
    "len(train['종목명'].unique())\n",
    "sample = train['종목명'].unique()\n",
    "print(len(sample))\n",
    "\n",
    "# 시험용\n",
    "sampleF = ['동화약품', 'KR모터스', '경방', '메리츠화재', '삼양홀딩스', '하이트진로', '유한양행', 'CJ대한통운']"
   ]
  },
  {
   "cell_type": "code",
   "execution_count": null,
   "metadata": {},
   "outputs": [],
   "source": [
    "#train.to_csv('종목명v7.csv', index=False, encoding='euc-kr')"
   ]
  },
  {
   "cell_type": "code",
   "execution_count": null,
   "metadata": {},
   "outputs": [],
   "source": [
    "# 크롤링 안정성을 위해 작업량 쪼개기\n",
    "# 2688개를 180개씩 나누기\n",
    "#1\n",
    "sampleAPI1 = sample[:180]\n",
    "sampleAPI2 = sample[180:360]\n",
    "sampleAPI3 = sample[360:540]\n",
    "#2\n",
    "sampleAPI4 = sample[540:720]\n",
    "sampleAPI5 = sample[720:900]\n",
    "sampleAPI6 = sample[900:1080]\n",
    "#3\n",
    "sampleAPI7 = sample[1080:1260]\n",
    "sampleAPI8 = sample[1260:1440]\n",
    "sampleAPI9 = sample[1440:1620]\n",
    "#4\n",
    "sampleAPI10 = sample[1620:1800]\n",
    "sampleAPI11 = sample[1800:1980]\n",
    "sampleAPI12 = sample[1980:2160]\n",
    "#5\n",
    "sampleAPI13 = sample[2160:2340]\n",
    "sampleAPI14 = sample[2340:2520]\n",
    "sampleAPI15 = sample[2520:]\n"
   ]
  },
  {
   "cell_type": "markdown",
   "metadata": {},
   "source": [
    "## [1]트위터 스크래핑!"
   ]
  },
  {
   "cell_type": "markdown",
   "metadata": {},
   "source": [
    "### 2-1. 사전작업\n",
    " - 구글계정으로 트위터를 가입해 주세요.\n",
    " - 아래계정을 검색한뒤 점3개를 클릭해 차단(Block)해주세요\n",
    "증권사 기업 레포트 봇, 바인더배송준비, 제트 09, Kmfresh19, 금융달인, KISMO, 경제/투자 유튜브 새영상 알림 봇, 증시봇, 싸주닷컴 야동, 다벗구놀기홈:kcm78.com, SKim35052643"
   ]
  },
  {
   "cell_type": "markdown",
   "metadata": {},
   "source": [
    "### 2-2. 코드 작성\n",
    "아래코드에서 수정할 부분들\n",
    " - 1. 크롤링을 위해 트위터(구글계정) id,pw를 적어주세요\n",
    " - 2.자신에게 맞는 크롬드라이버 위치를 적어주세요.\n",
    " - 3.자신에게 할당된 샘플넘버를 맞춰주세요."
   ]
  },
  {
   "cell_type": "code",
   "execution_count": null,
   "metadata": {},
   "outputs": [],
   "source": [
    "snsresult = pd.DataFrame(columns=['종목','내용'])\n",
    "errresult = pd.DataFrame(columns=['에러종목','에러'])\n",
    "num= 0\n",
    "errnum=0\n",
    "#1. 크롤링을 위해 트위터 id,pw를 적어주세요(제가 구글로그인으로 해서 구글계정으로 해주세요)\n",
    "input_id = \"dek930710\";\n",
    "input_pw = \"indek132!@\";\n",
    "\n",
    "#페이지이동 \n",
    "\n",
    "# 2.자신에게 맞는 크롬드라이버 위치를 적어주세요\n",
    "driver=wb.Chrome(r'C:\\Users\\SM2113\\크롤링\\chromedriver')\n",
    "driver.get(\"https://twitter.com/search?q=sk%ED%95%98%EC%9D%B4%EB%8B%89%EC%8A%A4&src=typed_query&f=live\")\n",
    "#로그인\n",
    "btn_lgnpage = driver.find_element_by_css_selector(\"#layers > div > div:nth-child(1) > div > div > div > div > div > div > div:nth-child(1)\")\n",
    "btn_lgnpage.click()\n",
    "time.sleep(0.3)\n",
    "id = driver.find_element_by_css_selector(\"#react-root > div > div > div.css-1dbjc4n.r-13qz1uu.r-417010 > main > div > div > div.css-1dbjc4n.r-13qz1uu > form > div > div:nth-child(6) > label > div > div.css-1dbjc4n.r-18u37iz.r-16y2uox.r-1wbh5a2.r-1wzrnnt.r-1udh08x.r-xd6kpl.r-1pn2ns4.r-ttdzmv > div > input\")\n",
    "id.send_keys(input_id)\n",
    "pw = driver.find_element_by_css_selector(\"#react-root > div > div > div.css-1dbjc4n.r-13qz1uu.r-417010 > main > div > div > div.css-1dbjc4n.r-13qz1uu > form > div > div:nth-child(7) > label > div > div.css-1dbjc4n.r-18u37iz.r-16y2uox.r-1wbh5a2.r-1wzrnnt.r-1udh08x.r-xd6kpl.r-1pn2ns4.r-ttdzmv > div > input\")\n",
    "pw.send_keys(input_pw)\n",
    "btn_lgn = driver.find_element_by_css_selector(\"#react-root > div > div > div.css-1dbjc4n.r-13qz1uu.r-417010 > main > div > div > div.css-1dbjc4n.r-13qz1uu > form > div > div:nth-child(8) > div > div\")\n",
    "btn_lgn.click()\n",
    "time.sleep(0.5)\n",
    "for k in range(1):# 3.자신에게 할당된 샘플넘버를 맞춰주세요\n",
    "#     if(k == 0):\n",
    "#         jongmok = sampleAPI1\n",
    "#     elif(k == 1):\n",
    "#         jongmok = sampleAPI2\n",
    "#     elif(k == 2):\n",
    "#         jongmok = sampleAPI3\n",
    "    jongmok = sampleAPI6\n",
    "    for jong in jongmok: \n",
    "        # 종목 검색\n",
    "        try :\n",
    "            driver.get(\"https://twitter.com/search?q=\"+jong+\"&src=recent_search_click&f=live\")\n",
    "            time.sleep(1.0)\n",
    "        except ValueError :\n",
    "            errcode = \"종목명 : \",jong, \" driver.get 에러\"\n",
    "            errresult.loc[errnum] = [jong,errcode]\n",
    "            errnum = errnum+1\n",
    "        for j in range(10): # 종목당 크롤링 시도 횟수\n",
    "            try :\n",
    "                for d in range(30): # 스크롤 키다운\n",
    "                    body=driver.find_element_by_tag_name(\"body\")\n",
    "                    body.send_keys(Keys.PAGE_DOWN)\n",
    "                    time.sleep(0.2)\n",
    "                time.sleep(0.2)\n",
    "\n",
    "                #body가져오기\n",
    "                body=driver.find_element_by_tag_name(\"body\")\n",
    "                time.sleep(2.5)\n",
    "                result = driver.find_elements_by_css_selector('#react-root > div > div > div.css-1dbjc4n.r-18u37iz.r-13qz1uu.r-417010 > main > div > div > div > div > div > div > div > div > section > div > div > div')\n",
    "                time.sleep(1)\n",
    "            except ValueError :\n",
    "                errcode = \"종목명 : \",jong, \" body not found에러\"\n",
    "                errresult.loc[errnum] = [jong,errcode]\n",
    "\n",
    "            for i in range(len(result)): # 데이터 프레임에 저장\n",
    "                try :\n",
    "                    snsresult.loc[num]=[ jong, result[i].text.strip()]\n",
    "                except ValueError :\n",
    "                    errcode = \"종목명 : \",jong,\"  \",j,\"번째 크롤링 시도중 elements not found에러\"\n",
    "                    errresult.loc[errnum] = [jong,errcode]\n",
    "                    errnum = errnum+1\n",
    "                    #selector로 가져온값 저장\n",
    "                print(snsresult.loc[num])\n",
    "                num = num+1\n",
    "\n",
    "\n",
    "\n"
   ]
  },
  {
   "cell_type": "code",
   "execution_count": null,
   "metadata": {},
   "outputs": [],
   "source": [
    "#크롤링한 데이터 저장(동적저장x)\n",
    "snsresult.to_csv('snsresult66.csv', index=False, encoding='utf-8-sig')\n",
    "errresult.to_csv('errresult66.csv', index=False, encoding='utf-8-sig')"
   ]
  },
  {
   "cell_type": "markdown",
   "metadata": {},
   "source": [
    "## [2]트위터 API 활용"
   ]
  },
  {
   "cell_type": "code",
   "execution_count": null,
   "metadata": {},
   "outputs": [],
   "source": [
    "#트위터 api인증키 (트위터디벨롭에서 받아몽)\n",
    "\n",
    "twitter_consumer_key = \"XNcqVsLod2TYdqijZT5bzfS3x\"\n",
    "twitter_consumer_secret = \"j6kKFtFp0fpegZ4Hzifl52E8njyCuEksGpqenbAQkOGHoj09sI\"  \n",
    "twitter_access_token = \"1422812027811090433-vYxgHirfscvj6EiaKotxVFn7DUrsLz\"\n",
    "twitter_access_secret = \"x8b3gd0gQDulNzzrnnk5WKNzbTyvi1i1eU2grg5dVIjLO\"\n",
    "\n",
    "# twitter 라이브러리 임폴트\n",
    "\n",
    "\n",
    "\n",
    "twitter_api = twitter.Api(consumer_key=twitter_consumer_key,\n",
    "                          consumer_secret=twitter_consumer_secret, \n",
    "                          access_token_key=twitter_access_token, \n",
    "                          access_token_secret=twitter_access_secret)"
   ]
  },
  {
   "cell_type": "markdown",
   "metadata": {},
   "source": [
    "#### 특정 단어로 검색하기"
   ]
  },
  {
   "cell_type": "code",
   "execution_count": null,
   "metadata": {},
   "outputs": [],
   "source": [
    "# 최신순으로 검색\n",
    "# GetSearch(term 검색명, count 가져오는 횟수)\n",
    "#               #검색명 해서 태그로 가져올수 있음\n",
    "\n",
    "#jongmook = {} *종목은 investing이라는 주식종목 검색기에서 크롤링\n",
    "#for i in range(len(jongmook))\n",
    "jongmook = \"SK하이닉스\"\n",
    "statuses = twitter_api.GetSearch(term=jongmook, count=100\n",
    "                                )\n",
    "for status in statuses:\n",
    "    print(status.text)\n"
   ]
  },
  {
   "cell_type": "markdown",
   "metadata": {},
   "source": [
    "#### 유저아이디로 검색"
   ]
  },
  {
   "cell_type": "code",
   "execution_count": null,
   "metadata": {},
   "outputs": [],
   "source": [
    "account = \"@pogba9999\" # 주식종목 추천봇 ID\n",
    "\n",
    "statuses = twitter_api.GetUserTimeline(screen_name=account, \n",
    "                count=200, include_rts=True, exclude_replies=False)\n",
    "\n",
    "for status in statuses:\n",
    "    print(status.text.encode('utf-8'))"
   ]
  },
  {
   "cell_type": "markdown",
   "metadata": {},
   "source": [
    "### 사용된 태그가 많은 순으로 출력\n",
    "- Counter()를 활용해서 가장 많이 등장한 해시태그 순으로 출력.\n"
   ]
  },
  {
   "cell_type": "code",
   "execution_count": null,
   "metadata": {},
   "outputs": [],
   "source": [
    "from collections import Counter\n",
    "query = \"#sk하이닉스\"\n",
    "statuses = twitter_api.GetSearch(term=query, count=100)\n",
    "result = []\n",
    "for status in statuses:\n",
    "    for tag in status.hashtags:\n",
    "        result.append(tag.text)\n",
    "        \n",
    "Counter(result).most_common(20)"
   ]
  },
  {
   "cell_type": "markdown",
   "metadata": {},
   "source": [
    "#### 스트리밍 GetStreamFilter()\n",
    " - 특정 키워드를 지정해놓으면, 그 키워드가 포함된 트윗을 실시간으로 수집하는 거다."
   ]
  },
  {
   "cell_type": "code",
   "execution_count": null,
   "metadata": {},
   "outputs": [],
   "source": [
    "import json\n",
    "query = [\"주식종목 추천\"]\n",
    "output_file_name = \"stream_result.txt\"\n",
    "with open(output_file_name, \"w\", encoding=\"utf-8\") as output_file:\n",
    "    stream = twitter_api.GetStreamFilter(track=query)\n",
    "    while True:\n",
    "        for tweets in stream:\n",
    "            tweet = json.dumps(tweets, ensure_ascii=False)\n",
    "            print(tweet, file=output_file, flush=True)"
   ]
  },
  {
   "cell_type": "markdown",
   "metadata": {},
   "source": [
    "# [3]페이스북 스크래핑!"
   ]
  },
  {
   "cell_type": "code",
   "execution_count": null,
   "metadata": {},
   "outputs": [],
   "source": [
    "driver=wb.Chrome(r'C:\\Users\\SM2113\\크롤링\\chromedriver')\n",
    "driver.get(\"https://m.facebook.com/search/posts/?q=%EC%98%81%EC%9B%85%EB%AC%B8&source=filter&isTrending=0&tsid\")\n",
    "\n",
    "html = driver.page_source\n",
    "soup = bs(html,'html.parser')\n",
    "\n",
    "## 로그인하기 \n",
    "btn_lgnpage = driver.find_element_by_css_selector(\"#root > div:nth-child(1) > div > div > div:nth-child(1) > div > a._7nyk._7nyj > div\")\n",
    "btn_lgnpage.click()\n",
    "id = driver.find_element_by_css_selector(\"#m_login_email\")\n",
    "id.send_keys(\"+821073372836\")\n",
    "pw = driver.find_element_by_css_selector(\"#m_login_password\")\n",
    "pw.send_keys(\"indek132!@\")\n",
    "btn_lgn = driver.find_element_by_css_selector(\"#login_password_step_element > button\")\n",
    "btn_lgn.click()\n",
    "time.sleep(1.5)\n",
    "driver.get(\"https://m.facebook.com/search/posts/?q=삼성전자&source=filter&isTrending=0&tsid\")\n",
    "time.sleep(1.5)\n",
    "body=driver.find_element_by_tag_name(\"body\")\n",
    "for i in range(200):\n",
    "    body.send_keys(Keys.PAGE_DOWN)\n",
    "    time.sleep(0.2)\n",
    "nnn = driver.find_elements_by_css_selector('div._5rgt._5nk5._5msi p')\n",
    "\n",
    "for i in range(len(nnn)):\n",
    "     nnn[i] = nnn[i].text.strip()\n",
    "nnn\n",
    "\n"
   ]
  },
  {
   "cell_type": "code",
   "execution_count": null,
   "metadata": {},
   "outputs": [],
   "source": []
  },
  {
   "cell_type": "code",
   "execution_count": null,
   "metadata": {},
   "outputs": [],
   "source": []
  },
  {
   "cell_type": "code",
   "execution_count": null,
   "metadata": {},
   "outputs": [],
   "source": []
  },
  {
   "cell_type": "code",
   "execution_count": null,
   "metadata": {},
   "outputs": [],
   "source": []
  },
  {
   "cell_type": "code",
   "execution_count": null,
   "metadata": {},
   "outputs": [],
   "source": []
  }
 ],
 "metadata": {
  "kernelspec": {
   "display_name": "Python 3",
   "language": "python",
   "name": "python3"
  },
  "language_info": {
   "codemirror_mode": {
    "name": "ipython",
    "version": 3
   },
   "file_extension": ".py",
   "mimetype": "text/x-python",
   "name": "python",
   "nbconvert_exporter": "python",
   "pygments_lexer": "ipython3",
   "version": "3.8.5"
  }
 },
 "nbformat": 4,
 "nbformat_minor": 4
}
